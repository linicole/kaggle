{
 "cells": [
  {
   "cell_type": "markdown",
   "metadata": {},
   "source": [
    "The evaluation metric used here is ROC-AUC, which means:\n",
    "* This is a binary-classificaiton problem, and our goal is to classify our users into \"fraudulent\" and \"non-fraudulent\".\n",
    "* Unlike the metric of LogLoss, the ROC-AUC depends on how well you separate the two classes. As a result, the model's probability results won't affect the score. "
   ]
  },
  {
   "cell_type": "code",
   "execution_count": 4,
   "metadata": {},
   "outputs": [
    {
     "name": "stdout",
     "output_type": "stream",
     "text": [
      "/Users/lli2/Git/kaggle/TalkingData_AdTracking\n"
     ]
    }
   ],
   "source": [
    "cd \"/Users/lli2/Git/kaggle/TalkingData_AdTracking\""
   ]
  },
  {
   "cell_type": "code",
   "execution_count": 2,
   "metadata": {
    "collapsed": true
   },
   "outputs": [],
   "source": [
    "import numpy as np\n",
    "import pandas as pd\n",
    "import matplotlib.pyplot as plt\n",
    "import seaborn as sns\n",
    "import gc\n",
    "import os \n",
    "\n",
    "pal = sns.color_palette()\n",
    "\n",
    "%matplotlib inline"
   ]
  },
  {
   "cell_type": "code",
   "execution_count": 14,
   "metadata": {},
   "outputs": [
    {
     "name": "stdout",
     "output_type": "stream",
     "text": [
      "test.csv            863.27 MB\n",
      "train.csv           7537.65 MB\n"
     ]
    }
   ],
   "source": [
    "data_dir = '/Users/lli2/Git/kaggle_data'\n",
    "for f in os.listdir(data_dir):\n",
    "    if 'zip' not in f:\n",
    "        print(f.ljust(20) + str(round(os.path.getsize(data_dir + '/' + f)/1000000, 2)) + \" MB\")"
   ]
  },
  {
   "cell_type": "code",
   "execution_count": null,
   "metadata": {
    "collapsed": true
   },
   "outputs": [],
   "source": []
  },
  {
   "cell_type": "code",
   "execution_count": null,
   "metadata": {
    "collapsed": true
   },
   "outputs": [],
   "source": []
  }
 ],
 "metadata": {
  "kernelspec": {
   "display_name": "Python 3",
   "language": "python",
   "name": "python3"
  },
  "language_info": {
   "codemirror_mode": {
    "name": "ipython",
    "version": 3
   },
   "file_extension": ".py",
   "mimetype": "text/x-python",
   "name": "python",
   "nbconvert_exporter": "python",
   "pygments_lexer": "ipython3",
   "version": "3.6.3"
  }
 },
 "nbformat": 4,
 "nbformat_minor": 2
}
