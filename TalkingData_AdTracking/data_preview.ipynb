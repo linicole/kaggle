{
 "cells": [
  {
   "cell_type": "markdown",
   "metadata": {},
   "source": [
    "# TalkingData Preview"
   ]
  },
  {
   "cell_type": "markdown",
   "metadata": {},
   "source": [
    "The evaluation metric used here is ROC-AUC, which means:\n",
    "* This is a binary-classificaiton problem, and our goal is to classify our users into \"fraudulent\" and \"non-fraudulent\".\n",
    "* Unlike the metric of LogLoss, the ROC-AUC depends on how well you separate the two classes. As a result, the model's probability results won't affect the score. "
   ]
  },
  {
   "cell_type": "markdown",
   "metadata": {},
   "source": [
    "### Content\n",
    "0. [Data Import](#data_import)\n",
    "1. [Data Overview & EDA](#data_overview)\n",
    "2. [Data Engineering](#data_engineering)\n",
    "3. Modeling & Prediction"
   ]
  },
  {
   "cell_type": "markdown",
   "metadata": {},
   "source": [
    "   "
   ]
  },
  {
   "cell_type": "markdown",
   "metadata": {},
   "source": [
    "## Data Import <a id=\"data_import\"></a>"
   ]
  },
  {
   "cell_type": "code",
   "execution_count": 1,
   "metadata": {},
   "outputs": [
    {
     "name": "stdout",
     "output_type": "stream",
     "text": [
      "/Users/lli2/Git/kaggle/TalkingData_AdTracking\n"
     ]
    }
   ],
   "source": [
    "cd \"/Users/lli2/Git/kaggle/TalkingData_AdTracking\""
   ]
  },
  {
   "cell_type": "code",
   "execution_count": 47,
   "metadata": {
    "collapsed": true
   },
   "outputs": [],
   "source": [
    "import numpy as np\n",
    "import pandas as pd\n",
    "import random\n",
    "import matplotlib.pyplot as plt\n",
    "import seaborn as sns\n",
    "import gc\n",
    "import os \n",
    "\n",
    "pal = sns.color_palette()\n",
    "\n",
    "%matplotlib inline"
   ]
  },
  {
   "cell_type": "code",
   "execution_count": 49,
   "metadata": {
    "collapsed": true
   },
   "outputs": [],
   "source": [
    "import warnings\n",
    "warnings.filterwarnings('ignore')"
   ]
  },
  {
   "cell_type": "code",
   "execution_count": 3,
   "metadata": {},
   "outputs": [
    {
     "name": "stdout",
     "output_type": "stream",
     "text": [
      "test.csv            863.27 MB\n",
      "train.csv           7537.65 MB\n"
     ]
    }
   ],
   "source": [
    "data_dir = '/Users/lli2/Git/kaggle_data'\n",
    "for f in os.listdir(data_dir):\n",
    "    if 'zip' not in f:\n",
    "        print(f.ljust(20) + str(round(os.path.getsize(data_dir + '/' + f)/1000000, 2)) + \" MB\")"
   ]
  },
  {
   "cell_type": "markdown",
   "metadata": {},
   "source": [
    "  "
   ]
  },
  {
   "cell_type": "markdown",
   "metadata": {},
   "source": [
    "## Data Overview & EDA <a id=\"data_overview\"></a>"
   ]
  },
  {
   "cell_type": "code",
   "execution_count": 4,
   "metadata": {
    "collapsed": true
   },
   "outputs": [],
   "source": [
    "df_train = pd.read_csv(data_dir + '/train.csv', nrows=1000000)\n",
    "df_test = pd.read_csv(data_dir + '/test.csv', nrows=1000000)"
   ]
  },
  {
   "cell_type": "code",
   "execution_count": 20,
   "metadata": {},
   "outputs": [],
   "source": [
    "common_names = df_train.columns.intersection(df_test.columns).values"
   ]
  },
  {
   "cell_type": "code",
   "execution_count": 13,
   "metadata": {},
   "outputs": [
    {
     "data": {
      "text/html": [
       "<div>\n",
       "<style scoped>\n",
       "    .dataframe tbody tr th:only-of-type {\n",
       "        vertical-align: middle;\n",
       "    }\n",
       "\n",
       "    .dataframe tbody tr th {\n",
       "        vertical-align: top;\n",
       "    }\n",
       "\n",
       "    .dataframe thead th {\n",
       "        text-align: right;\n",
       "    }\n",
       "</style>\n",
       "<table border=\"1\" class=\"dataframe\">\n",
       "  <thead>\n",
       "    <tr style=\"text-align: right;\">\n",
       "      <th></th>\n",
       "      <th>ip</th>\n",
       "      <th>app</th>\n",
       "      <th>device</th>\n",
       "      <th>os</th>\n",
       "      <th>channel</th>\n",
       "      <th>is_attributed</th>\n",
       "    </tr>\n",
       "  </thead>\n",
       "  <tbody>\n",
       "    <tr>\n",
       "      <th>count</th>\n",
       "      <td>1000000.000000</td>\n",
       "      <td>1000000.000000</td>\n",
       "      <td>1000000.000000</td>\n",
       "      <td>1000000.000000</td>\n",
       "      <td>1000000.000000</td>\n",
       "      <td>1000000.000000</td>\n",
       "    </tr>\n",
       "    <tr>\n",
       "      <th>mean</th>\n",
       "      <td>86993.581653</td>\n",
       "      <td>12.316655</td>\n",
       "      <td>26.141368</td>\n",
       "      <td>23.067662</td>\n",
       "      <td>241.523634</td>\n",
       "      <td>0.001693</td>\n",
       "    </tr>\n",
       "    <tr>\n",
       "      <th>std</th>\n",
       "      <td>55529.023541</td>\n",
       "      <td>16.216890</td>\n",
       "      <td>273.537010</td>\n",
       "      <td>55.323313</td>\n",
       "      <td>122.713405</td>\n",
       "      <td>0.041111</td>\n",
       "    </tr>\n",
       "    <tr>\n",
       "      <th>min</th>\n",
       "      <td>9.000000</td>\n",
       "      <td>0.000000</td>\n",
       "      <td>0.000000</td>\n",
       "      <td>0.000000</td>\n",
       "      <td>0.000000</td>\n",
       "      <td>0.000000</td>\n",
       "    </tr>\n",
       "    <tr>\n",
       "      <th>25%</th>\n",
       "      <td>42297.000000</td>\n",
       "      <td>3.000000</td>\n",
       "      <td>1.000000</td>\n",
       "      <td>13.000000</td>\n",
       "      <td>134.000000</td>\n",
       "      <td>0.000000</td>\n",
       "    </tr>\n",
       "    <tr>\n",
       "      <th>50%</th>\n",
       "      <td>81725.000000</td>\n",
       "      <td>12.000000</td>\n",
       "      <td>1.000000</td>\n",
       "      <td>18.000000</td>\n",
       "      <td>232.000000</td>\n",
       "      <td>0.000000</td>\n",
       "    </tr>\n",
       "    <tr>\n",
       "      <th>75%</th>\n",
       "      <td>120440.000000</td>\n",
       "      <td>15.000000</td>\n",
       "      <td>1.000000</td>\n",
       "      <td>19.000000</td>\n",
       "      <td>280.000000</td>\n",
       "      <td>0.000000</td>\n",
       "    </tr>\n",
       "    <tr>\n",
       "      <th>max</th>\n",
       "      <td>212773.000000</td>\n",
       "      <td>645.000000</td>\n",
       "      <td>3379.000000</td>\n",
       "      <td>715.000000</td>\n",
       "      <td>498.000000</td>\n",
       "      <td>1.000000</td>\n",
       "    </tr>\n",
       "  </tbody>\n",
       "</table>\n",
       "</div>"
      ],
      "text/plain": [
       "                   ip             app          device              os  \\\n",
       "count  1000000.000000  1000000.000000  1000000.000000  1000000.000000   \n",
       "mean     86993.581653       12.316655       26.141368       23.067662   \n",
       "std      55529.023541       16.216890      273.537010       55.323313   \n",
       "min          9.000000        0.000000        0.000000        0.000000   \n",
       "25%      42297.000000        3.000000        1.000000       13.000000   \n",
       "50%      81725.000000       12.000000        1.000000       18.000000   \n",
       "75%     120440.000000       15.000000        1.000000       19.000000   \n",
       "max     212773.000000      645.000000     3379.000000      715.000000   \n",
       "\n",
       "              channel   is_attributed  \n",
       "count  1000000.000000  1000000.000000  \n",
       "mean       241.523634        0.001693  \n",
       "std        122.713405        0.041111  \n",
       "min          0.000000        0.000000  \n",
       "25%        134.000000        0.000000  \n",
       "50%        232.000000        0.000000  \n",
       "75%        280.000000        0.000000  \n",
       "max        498.000000        1.000000  "
      ]
     },
     "execution_count": 13,
     "metadata": {},
     "output_type": "execute_result"
    }
   ],
   "source": [
    "df_train.describe()"
   ]
  },
  {
   "cell_type": "code",
   "execution_count": 17,
   "metadata": {},
   "outputs": [
    {
     "data": {
      "text/html": [
       "<div>\n",
       "<style scoped>\n",
       "    .dataframe tbody tr th:only-of-type {\n",
       "        vertical-align: middle;\n",
       "    }\n",
       "\n",
       "    .dataframe tbody tr th {\n",
       "        vertical-align: top;\n",
       "    }\n",
       "\n",
       "    .dataframe thead th {\n",
       "        text-align: right;\n",
       "    }\n",
       "</style>\n",
       "<table border=\"1\" class=\"dataframe\">\n",
       "  <thead>\n",
       "    <tr style=\"text-align: right;\">\n",
       "      <th></th>\n",
       "      <th>ip</th>\n",
       "      <th>app</th>\n",
       "      <th>device</th>\n",
       "      <th>os</th>\n",
       "      <th>channel</th>\n",
       "      <th>click_time</th>\n",
       "      <th>attributed_time</th>\n",
       "      <th>is_attributed</th>\n",
       "    </tr>\n",
       "  </thead>\n",
       "  <tbody>\n",
       "    <tr>\n",
       "      <th>0</th>\n",
       "      <td>83230</td>\n",
       "      <td>3</td>\n",
       "      <td>1</td>\n",
       "      <td>13</td>\n",
       "      <td>379</td>\n",
       "      <td>2017-11-06 14:32:21</td>\n",
       "      <td>NaN</td>\n",
       "      <td>0</td>\n",
       "    </tr>\n",
       "    <tr>\n",
       "      <th>1</th>\n",
       "      <td>17357</td>\n",
       "      <td>3</td>\n",
       "      <td>1</td>\n",
       "      <td>19</td>\n",
       "      <td>379</td>\n",
       "      <td>2017-11-06 14:33:34</td>\n",
       "      <td>NaN</td>\n",
       "      <td>0</td>\n",
       "    </tr>\n",
       "    <tr>\n",
       "      <th>2</th>\n",
       "      <td>35810</td>\n",
       "      <td>3</td>\n",
       "      <td>1</td>\n",
       "      <td>13</td>\n",
       "      <td>379</td>\n",
       "      <td>2017-11-06 14:34:12</td>\n",
       "      <td>NaN</td>\n",
       "      <td>0</td>\n",
       "    </tr>\n",
       "    <tr>\n",
       "      <th>3</th>\n",
       "      <td>45745</td>\n",
       "      <td>14</td>\n",
       "      <td>1</td>\n",
       "      <td>13</td>\n",
       "      <td>478</td>\n",
       "      <td>2017-11-06 14:34:52</td>\n",
       "      <td>NaN</td>\n",
       "      <td>0</td>\n",
       "    </tr>\n",
       "    <tr>\n",
       "      <th>4</th>\n",
       "      <td>161007</td>\n",
       "      <td>3</td>\n",
       "      <td>1</td>\n",
       "      <td>13</td>\n",
       "      <td>379</td>\n",
       "      <td>2017-11-06 14:35:08</td>\n",
       "      <td>NaN</td>\n",
       "      <td>0</td>\n",
       "    </tr>\n",
       "  </tbody>\n",
       "</table>\n",
       "</div>"
      ],
      "text/plain": [
       "       ip  app  device  os  channel           click_time attributed_time  \\\n",
       "0   83230    3       1  13      379  2017-11-06 14:32:21             NaN   \n",
       "1   17357    3       1  19      379  2017-11-06 14:33:34             NaN   \n",
       "2   35810    3       1  13      379  2017-11-06 14:34:12             NaN   \n",
       "3   45745   14       1  13      478  2017-11-06 14:34:52             NaN   \n",
       "4  161007    3       1  13      379  2017-11-06 14:35:08             NaN   \n",
       "\n",
       "   is_attributed  \n",
       "0              0  \n",
       "1              0  \n",
       "2              0  \n",
       "3              0  \n",
       "4              0  "
      ]
     },
     "execution_count": 17,
     "metadata": {},
     "output_type": "execute_result"
    }
   ],
   "source": [
    "df_train.head()"
   ]
  },
  {
   "cell_type": "code",
   "execution_count": 22,
   "metadata": {},
   "outputs": [
    {
     "data": {
      "text/html": [
       "<div>\n",
       "<style scoped>\n",
       "    .dataframe tbody tr th:only-of-type {\n",
       "        vertical-align: middle;\n",
       "    }\n",
       "\n",
       "    .dataframe tbody tr th {\n",
       "        vertical-align: top;\n",
       "    }\n",
       "\n",
       "    .dataframe thead th {\n",
       "        text-align: right;\n",
       "    }\n",
       "</style>\n",
       "<table border=\"1\" class=\"dataframe\">\n",
       "  <thead>\n",
       "    <tr style=\"text-align: right;\">\n",
       "      <th></th>\n",
       "      <th>ip</th>\n",
       "      <th>app</th>\n",
       "      <th>device</th>\n",
       "      <th>os</th>\n",
       "      <th>channel</th>\n",
       "      <th>click_time</th>\n",
       "    </tr>\n",
       "  </thead>\n",
       "  <tbody>\n",
       "    <tr>\n",
       "      <th>0</th>\n",
       "      <td>5744</td>\n",
       "      <td>9</td>\n",
       "      <td>1</td>\n",
       "      <td>3</td>\n",
       "      <td>107</td>\n",
       "      <td>2017-11-10 04:00:00</td>\n",
       "    </tr>\n",
       "    <tr>\n",
       "      <th>1</th>\n",
       "      <td>119901</td>\n",
       "      <td>9</td>\n",
       "      <td>1</td>\n",
       "      <td>3</td>\n",
       "      <td>466</td>\n",
       "      <td>2017-11-10 04:00:00</td>\n",
       "    </tr>\n",
       "    <tr>\n",
       "      <th>2</th>\n",
       "      <td>72287</td>\n",
       "      <td>21</td>\n",
       "      <td>1</td>\n",
       "      <td>19</td>\n",
       "      <td>128</td>\n",
       "      <td>2017-11-10 04:00:00</td>\n",
       "    </tr>\n",
       "    <tr>\n",
       "      <th>3</th>\n",
       "      <td>78477</td>\n",
       "      <td>15</td>\n",
       "      <td>1</td>\n",
       "      <td>13</td>\n",
       "      <td>111</td>\n",
       "      <td>2017-11-10 04:00:00</td>\n",
       "    </tr>\n",
       "    <tr>\n",
       "      <th>4</th>\n",
       "      <td>123080</td>\n",
       "      <td>12</td>\n",
       "      <td>1</td>\n",
       "      <td>13</td>\n",
       "      <td>328</td>\n",
       "      <td>2017-11-10 04:00:00</td>\n",
       "    </tr>\n",
       "  </tbody>\n",
       "</table>\n",
       "</div>"
      ],
      "text/plain": [
       "       ip  app  device  os  channel           click_time\n",
       "0    5744    9       1   3      107  2017-11-10 04:00:00\n",
       "1  119901    9       1   3      466  2017-11-10 04:00:00\n",
       "2   72287   21       1  19      128  2017-11-10 04:00:00\n",
       "3   78477   15       1  13      111  2017-11-10 04:00:00\n",
       "4  123080   12       1  13      328  2017-11-10 04:00:00"
      ]
     },
     "execution_count": 22,
     "metadata": {},
     "output_type": "execute_result"
    }
   ],
   "source": [
    "df_test = df_test[common_names]\n",
    "df_test.head()"
   ]
  },
  {
   "cell_type": "markdown",
   "metadata": {},
   "source": [
    "#### Looking at the columns\n",
    "* ip: ip address of click\n",
    "* app: app id for marketing\n",
    "* device: device type id of user mobile phone \n",
    "* os: os version id of user mobile phone\n",
    "* channel: channel id of mobile ad publisher\n",
    "* click_time: timestamp of click\n",
    "* attributed_time: if user download the app for after clicking an ad, this is the time of the app download\n",
    "* is_attributed: the target that is to be predicted, indicating the app was downloaded"
   ]
  },
  {
   "cell_type": "markdown",
   "metadata": {},
   "source": [
    "  "
   ]
  },
  {
   "cell_type": "markdown",
   "metadata": {},
   "source": [
    "### Data Visualization - General"
   ]
  },
  {
   "cell_type": "markdown",
   "metadata": {},
   "source": [
    "#### Unique number of records in each field"
   ]
  },
  {
   "cell_type": "code",
   "execution_count": 66,
   "metadata": {},
   "outputs": [
    {
     "data": {
      "image/png": "[encoded data removed]",
      "text/plain": [
       "<matplotlib.figure.Figure at 0x1a1b242438>"
      ]
     },
     "metadata": {},
     "output_type": "display_data"
    }
   ],
   "source": [
    "unique_count = [len(df_train[col].unique()) for col in common_names]\n",
    "\n",
    "plt.figure(figsize=(9,6))\n",
    "sns.set(font_scale=1.2)\n",
    "ax = sns.barplot(x=common_names, y=unique_count, palette=pal, log=True)\n",
    "ax.set(xlabel=\"Column Names\", \n",
    "       ylabel=\"Log(Unique Number of Records)\", \n",
    "       title=\"Number of Unique Records in Each Attribute (1,000,000 Records)\")\n",
    "\n",
    "for p, uniq in zip(ax.patches, unique_count):\n",
    "    height = p.get_height()\n",
    "    ax.text(p.get_x() + p.get_width()/2,\n",
    "            p.get_height() + 20,\n",
    "            uniq,\n",
    "            ha=\"center\")\n",
    "\n",
    "plt.show();"
   ]
  },
  {
   "cell_type": "markdown",
   "metadata": {},
   "source": [
    "### Data Visualization - Individual Variable"
   ]
  },
  {
   "cell_type": "markdown",
   "metadata": {},
   "source": [
    "#### Variable - IP"
   ]
  },
  {
   "cell_type": "code",
   "execution_count": 195,
   "metadata": {},
   "outputs": [
    {
     "name": "stdout",
     "output_type": "stream",
     "text": [
      "Variable 'ip': | Unique values: 39611 | Highest Frequenct: 6437 | Lowest Frequency: 1\n",
      "Frequency>=10: 52.22% | Frequency>=100: 4.06% | Frequency>=1000: 0.07%\n",
      "Note: More than 50% of IPs showed up less than 10 times.\n"
     ]
    },
    {
     "data": {
      "image/png": "[encoded data removed]",
      "text/plain": [
       "<matplotlib.figure.Figure at 0x1a16bc40f0>"
      ]
     },
     "metadata": {},
     "output_type": "display_data"
    }
   ],
   "source": [
    "var_viz = 'ip'\n",
    "\n",
    "sorted_count = np.sort(df_train[var_viz].value_counts().as_matrix())[::-1] # the frequency of each unique IP\n",
    "x_note = \"{unique_cnt} unique {var}s\".format(unique_cnt=len(sorted_count), var=var_viz.upper())\n",
    "\n",
    "fig = plt.figure(figsize=(12,4))\n",
    "ax = fig.add_subplot(1, 2, 1)\n",
    "ax.plot(sorted_count)\n",
    "#ax.set_yscale('log')\n",
    "ax.set(title=\"Distribution of value counts for {}\".format(var_viz),\n",
    "       xlabel=\"({unique_cnt} unique {var}s)\".format(unique_cnt=len(sorted_count), var=var_viz.upper()));\n",
    "\n",
    "ax = fig.add_subplot(1, 2, 2)\n",
    "ax.plot(sorted_count)\n",
    "ax.set_yscale('log')\n",
    "ax.set(title=\"Distribution of value counts (log) for {}\".format(var_viz),\n",
    "       xlabel=\"({unique_cnt} unique {var}s)\".format(unique_cnt=len(sorted_count), var=var_viz.upper()));\n",
    "\n",
    "\n",
    "print(\"Variable '{a}': | Unique values: {b} | Highest Frequenct: {c} | Lowest Frequency: {d}\".format(a=var_viz, \n",
    "                                                                                                     b=len(sorted_count), \n",
    "                                                                                                     c=sorted_count[0], \n",
    "                                                                                                     d=sorted_count[-1]))\n",
    "\n",
    "print(\"Frequency>=10: {a}% | Frequency>=100: {b}% | Frequency>=1000: {c}%\".format(a=str(round((sorted_count>=10).mean()*100, 2)), \n",
    "                                                                                  b=str(round((sorted_count>=100).mean()*100, 2)), \n",
    "                                                                                  c=str(round((sorted_count>=1000).mean()*100, 2))))\n",
    "\n",
    "print(\"Note: More than 50% of IPs showed up less than 10 times.\")\n"
   ]
  },
  {
   "cell_type": "markdown",
   "metadata": {},
   "source": [
    "For every 50 Frequency number, how many records occurance time is equal to it. For example, how many unique IPs have an occurance of 1-5 times."
   ]
  },
  {
   "cell_type": "code",
   "execution_count": 209,
   "metadata": {},
   "outputs": [
    {
     "name": "stdout",
     "output_type": "stream",
     "text": [
      "Note: \n",
      "Rare IP will show up more than 2000 times and even rare to show up more than 6000 times. \n",
      "They could be some fraudulent or outliers.\n"
     ]
    },
    {
     "data": {
      "image/png": "[encoded data removed]",
      "text/plain": [
       "<matplotlib.figure.Figure at 0x1a1cc8cdd8>"
      ]
     },
     "metadata": {},
     "output_type": "display_data"
    }
   ],
   "source": [
    "var_viz = 'ip'\n",
    "\n",
    "sorted_count = np.sort(df_train[var_viz].value_counts().as_matrix())[::-1] # the frequency of each unique IP\n",
    "\n",
    "fig = plt.figure(figsize=(15,5))\n",
    "ax = fig.add_subplot(1, 2, 1)\n",
    "plt.hist(sorted_count, bins=100) # Counts of Unique IP for a frequency range\n",
    "ax.set(title=\"Number of {}s for Each Frequency Bin\".format(var_viz.upper()));\n",
    "\n",
    "ax = fig.add_subplot(1, 2, 2)\n",
    "plt.hist(sorted_count, bins=100) # Counts of Unique IP for a frequency range\n",
    "ax.set_yscale('log', nonposy='clip') # nonposy: log(1) = 0 --> clipped to a very small positive number\n",
    "ax.set(title=\"Log(Number of {}s) for Each Frequency Bin\".format(var_viz.upper()));\n",
    "\n",
    "\n",
    "print(\"Note: \\nRare IP will show up more than 2000 times and even rare to show up more than 6000 times. \\nThey could be some fraudulent or outliers.\")\n",
    "\n"
   ]
  },
  {
   "cell_type": "markdown",
   "metadata": {},
   "source": [
    "  "
   ]
  },
  {
   "cell_type": "markdown",
   "metadata": {},
   "source": [
    "#### Variable - APP"
   ]
  },
  {
   "cell_type": "code",
   "execution_count": 197,
   "metadata": {},
   "outputs": [
    {
     "name": "stdout",
     "output_type": "stream",
     "text": [
      "Variable app | Unique Value: 214 | Highest Frequency: 141851 | Lowest Frequency: 1\n",
      "Frequency>=10: 52.34% | Frequency>=1000: 13.08% | Frequency>=10000: 8.41%\n",
      "Note: The distribution of frequencies of apps makes sense.\n"
     ]
    },
    {
     "data": {
      "image/png": "[encoded data removed]",
      "text/plain": [
       "<matplotlib.figure.Figure at 0x1a1cc8c898>"
      ]
     },
     "metadata": {},
     "output_type": "display_data"
    }
   ],
   "source": [
    "var_viz = 'app'\n",
    "\n",
    "sorted_count = np.sort(df_train[var_viz].value_counts().as_matrix())[::-1]\n",
    "len(sorted_count) # 214 unique APPs\n",
    "\n",
    "fig = plt.figure(figsize=(12, 5))\n",
    "ax = fig.add_subplot(121)\n",
    "ax.plot(sorted_count)\n",
    "ax.set(title=\"Distribution of Frequency of Each APP\", \n",
    "       xlabel=\"{} unique {}\".format(len(sorted_count), var_viz.upper()));\n",
    "\n",
    "\n",
    "ax = fig.add_subplot(122)\n",
    "ax.plot(sorted_count)\n",
    "ax.set_yscale('log')\n",
    "ax.set(title=\"Distribution of Log Frequency of Each APP\", \n",
    "       xlabel=\"{} unique {}\".format(len(sorted_count), var_viz.upper()));\n",
    "\n",
    "\n",
    "print(\"Variable {a} | Unique Value: {b} | Highest Frequency: {c} | Lowest Frequency: {d}\".format(a=var_viz,\n",
    "                                                                                                 b=len(sorted_count),\n",
    "                                                                                                 c=sorted_count[0],\n",
    "                                                                                                 d=sorted_count[-1]))\n",
    "\n",
    "print(\"Frequency>=10: {a}% | Frequency>=1000: {b}% | Frequency>=10000: {c}%\".format(a=round((sorted_count>=10).mean()*100,2),\n",
    "                                                                                    b=round((sorted_count>=1000).mean()*100,2),\n",
    "                                                                                    c=round((sorted_count>=10000).mean()*100,2)))\n",
    "\n",
    "print(\"Note: The distribution of frequencies of apps makes sense.\")"
   ]
  },
  {
   "cell_type": "markdown",
   "metadata": {},
   "source": [
    "  "
   ]
  },
  {
   "cell_type": "code",
   "execution_count": 210,
   "metadata": {},
   "outputs": [
    {
     "name": "stdout",
     "output_type": "stream",
     "text": [
      "Note: It seems APP is a 'winner-takes-all' game. \n",
      "The majority of APPs only have 1 frequency and some could get frequency larger than 80000.\n"
     ]
    },
    {
     "data": {
      "image/png": "[encoded data removed]",
      "text/plain": [
       "<matplotlib.figure.Figure at 0x1a1b52b668>"
      ]
     },
     "metadata": {},
     "output_type": "display_data"
    }
   ],
   "source": [
    "var_viz = 'app'\n",
    "\n",
    "sorted_count = np.sort(df_train[var_viz].value_counts().as_matrix())[::-1]\n",
    "\n",
    "fig=plt.figure(figsize=(15, 5))\n",
    "ax=fig.add_subplot(121)\n",
    "plt.hist(sorted_count, bins=50)\n",
    "ax.set_yscale('log', nonposy='clip')\n",
    "ax.set(title=\"Log(Number of {}s) for Each Frequency Bin\".format(var_viz.upper()),\n",
    "       )\n",
    ";\n",
    "\n",
    "\n",
    "print(\"Note: It seems APP is a 'winner-takes-all' game. \\nThe majority of APPs only have 1 frequency and some could get frequency larger than 80000.\")\n",
    "\n"
   ]
  },
  {
   "cell_type": "markdown",
   "metadata": {},
   "source": [
    "  "
   ]
  },
  {
   "cell_type": "markdown",
   "metadata": {},
   "source": [
    "#### Variable - Device"
   ]
  },
  {
   "cell_type": "code",
   "execution_count": 235,
   "metadata": {},
   "outputs": [
    {
     "name": "stdout",
     "output_type": "stream",
     "text": [
      "Variable: 'device' | Unique Values: 298 | Highest Frequency: 938053 | Lowest Frequency: 1\n",
      "Frequency>=10: 8.72% | Frequency>=100: 1.68% | Frequency>=1000: 1.34%\n",
      "Note: Half of the devices have only 1 record.\n"
     ]
    },
    {
     "data": {
      "image/png": "[encoded data removed]",
      "text/plain": [
       "<matplotlib.figure.Figure at 0x1a1b525320>"
      ]
     },
     "metadata": {},
     "output_type": "display_data"
    }
   ],
   "source": [
    "var_viz = 'device'\n",
    "\n",
    "sorted_count = np.sort(df_train[var_viz].value_counts().as_matrix())[::-1]\n",
    "len(sorted_count) # 298 unique devices\n",
    "\n",
    "fig = plt.figure(figsize=(15,5))\n",
    "ax = fig.add_subplot(121)\n",
    "ax.plot(sorted_count)\n",
    "ax.set_yscale('log')\n",
    "ax.set(title = \"Log of Frequency of Each Unique Devide\",\n",
    "       xlabel = \"({} unique {})\".format(len(sorted_count), var_viz.upper()));\n",
    "\n",
    "print(\"Variable: '{a}' | Unique Values: {b} | Highest Frequency: {c} | Lowest Frequency: {d}\".format(a=var_viz,\n",
    "                                                                                                     b=len(sorted_count),\n",
    "                                                                                                     c=sorted_count[0],\n",
    "                                                                                                     d=sorted_count[-1]))\n",
    "\n",
    "print(\"Frequency>=10: {a}% | Frequency>=100: {b}% | Frequency>=1000: {c}%\".format(a=round((sorted_count>=10).mean()*100, 2),\n",
    "                                                                               b=round((sorted_count>=100).mean()*100, 2),\n",
    "                                                                               c=round((sorted_count>=1000).mean()*100, 2)))\n",
    "\n",
    "print(\"Note: Half of the devices have only 1 record.\")"
   ]
  },
  {
   "cell_type": "code",
   "execution_count": 236,
   "metadata": {},
   "outputs": [
    {
     "name": "stdout",
     "output_type": "stream",
     "text": [
      "Note: Only few device have a frequency larger than 10. \n"
     ]
    },
    {
     "data": {
      "image/png": "[encoded data removed]",
      "text/plain": [
       "<matplotlib.figure.Figure at 0x1a16789eb8>"
      ]
     },
     "metadata": {},
     "output_type": "display_data"
    }
   ],
   "source": [
    "var_viz = 'device'\n",
    "\n",
    "sorted_count = np.sort(df_train[var_viz].value_counts().as_matrix())[::-1]\n",
    "\n",
    "fig = plt.figure(figsize=(15,5))\n",
    "ax = fig.add_subplot(121)\n",
    "plt.hist(sorted_count, bins=100)\n",
    "ax.set_yscale('log', nonposy='clip')\n",
    "ax.set(title=\"Number of Unique {}s within Frequency Bins\".format(var_viz.upper()),\n",
    "       xlabel=\"Frequency\");\n",
    "\n",
    "print(\"Note: Only few device have a frequency larger than 10. \")"
   ]
  },
  {
   "cell_type": "markdown",
   "metadata": {},
   "source": [
    "#### Variable - OS"
   ]
  },
  {
   "cell_type": "code",
   "execution_count": null,
   "metadata": {
    "collapsed": true
   },
   "outputs": [],
   "source": [
    "var_viz = 'os'\n",
    "\n",
    "\n",
    "\n"
   ]
  },
  {
   "cell_type": "code",
   "execution_count": 237,
   "metadata": {},
   "outputs": [
    {
     "data": {
      "text/plain": [
       "array(['ip', 'app', 'device', 'os', 'channel', 'click_time'], dtype=object)"
      ]
     },
     "execution_count": 237,
     "metadata": {},
     "output_type": "execute_result"
    }
   ],
   "source": [
    "common_names"
   ]
  },
  {
   "cell_type": "code",
   "execution_count": null,
   "metadata": {
    "collapsed": true
   },
   "outputs": [],
   "source": []
  },
  {
   "cell_type": "code",
   "execution_count": null,
   "metadata": {
    "collapsed": true
   },
   "outputs": [],
   "source": []
  },
  {
   "cell_type": "markdown",
   "metadata": {},
   "source": [
    "#### Variable - Channel"
   ]
  },
  {
   "cell_type": "code",
   "execution_count": null,
   "metadata": {
    "collapsed": true
   },
   "outputs": [],
   "source": []
  },
  {
   "cell_type": "code",
   "execution_count": null,
   "metadata": {
    "collapsed": true
   },
   "outputs": [],
   "source": []
  },
  {
   "cell_type": "code",
   "execution_count": null,
   "metadata": {
    "collapsed": true
   },
   "outputs": [],
   "source": []
  },
  {
   "cell_type": "code",
   "execution_count": null,
   "metadata": {
    "collapsed": true
   },
   "outputs": [],
   "source": []
  },
  {
   "cell_type": "markdown",
   "metadata": {},
   "source": [
    "#### Variable - Click Time"
   ]
  },
  {
   "cell_type": "code",
   "execution_count": null,
   "metadata": {
    "collapsed": true
   },
   "outputs": [],
   "source": []
  },
  {
   "cell_type": "code",
   "execution_count": null,
   "metadata": {
    "collapsed": true
   },
   "outputs": [],
   "source": []
  },
  {
   "cell_type": "code",
   "execution_count": null,
   "metadata": {
    "collapsed": true
   },
   "outputs": [],
   "source": []
  },
  {
   "cell_type": "code",
   "execution_count": null,
   "metadata": {
    "collapsed": true
   },
   "outputs": [],
   "source": []
  },
  {
   "cell_type": "markdown",
   "metadata": {},
   "source": [
    "### Data Visualization - Interaction Variables"
   ]
  },
  {
   "cell_type": "code",
   "execution_count": null,
   "metadata": {
    "collapsed": true
   },
   "outputs": [],
   "source": []
  },
  {
   "cell_type": "code",
   "execution_count": null,
   "metadata": {
    "collapsed": true
   },
   "outputs": [],
   "source": []
  },
  {
   "cell_type": "code",
   "execution_count": null,
   "metadata": {
    "collapsed": true
   },
   "outputs": [],
   "source": []
  },
  {
   "cell_type": "code",
   "execution_count": null,
   "metadata": {
    "collapsed": true
   },
   "outputs": [],
   "source": []
  },
  {
   "cell_type": "code",
   "execution_count": null,
   "metadata": {
    "collapsed": true
   },
   "outputs": [],
   "source": []
  },
  {
   "cell_type": "code",
   "execution_count": null,
   "metadata": {
    "collapsed": true
   },
   "outputs": [],
   "source": []
  },
  {
   "cell_type": "markdown",
   "metadata": {},
   "source": [
    "## Data Engineering <a id=\"data_engineering\"></a>"
   ]
  },
  {
   "cell_type": "markdown",
   "metadata": {},
   "source": [
    "###### Missing data"
   ]
  },
  {
   "cell_type": "code",
   "execution_count": null,
   "metadata": {
    "collapsed": true
   },
   "outputs": [],
   "source": []
  },
  {
   "cell_type": "code",
   "execution_count": null,
   "metadata": {
    "collapsed": true
   },
   "outputs": [],
   "source": []
  },
  {
   "cell_type": "code",
   "execution_count": null,
   "metadata": {
    "collapsed": true
   },
   "outputs": [],
   "source": []
  },
  {
   "cell_type": "markdown",
   "metadata": {},
   "source": [
    "###### IP Frequency Group"
   ]
  },
  {
   "cell_type": "code",
   "execution_count": null,
   "metadata": {
    "collapsed": true
   },
   "outputs": [],
   "source": []
  },
  {
   "cell_type": "code",
   "execution_count": null,
   "metadata": {
    "collapsed": true
   },
   "outputs": [],
   "source": []
  },
  {
   "cell_type": "code",
   "execution_count": null,
   "metadata": {
    "collapsed": true
   },
   "outputs": [],
   "source": []
  },
  {
   "cell_type": "code",
   "execution_count": null,
   "metadata": {
    "collapsed": true
   },
   "outputs": [],
   "source": []
  },
  {
   "cell_type": "code",
   "execution_count": null,
   "metadata": {
    "collapsed": true
   },
   "outputs": [],
   "source": []
  },
  {
   "cell_type": "code",
   "execution_count": null,
   "metadata": {
    "collapsed": true
   },
   "outputs": [],
   "source": []
  },
  {
   "cell_type": "code",
   "execution_count": null,
   "metadata": {
    "collapsed": true
   },
   "outputs": [],
   "source": []
  },
  {
   "cell_type": "code",
   "execution_count": null,
   "metadata": {
    "collapsed": true
   },
   "outputs": [],
   "source": []
  },
  {
   "cell_type": "code",
   "execution_count": null,
   "metadata": {
    "collapsed": true
   },
   "outputs": [],
   "source": []
  }
 ],
 "metadata": {
  "kernelspec": {
   "display_name": "Python 3",
   "language": "python",
   "name": "python3"
  },
  "language_info": {
   "codemirror_mode": {
    "name": "ipython",
    "version": 3
   },
   "file_extension": ".py",
   "mimetype": "text/x-python",
   "name": "python",
   "nbconvert_exporter": "python",
   "pygments_lexer": "ipython3",
   "version": "3.6.3"
  }
 },
 "nbformat": 4,
 "nbformat_minor": 2
}
