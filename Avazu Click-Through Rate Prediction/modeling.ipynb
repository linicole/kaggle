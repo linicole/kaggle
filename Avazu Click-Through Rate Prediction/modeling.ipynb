{
 "cells": [
  {
   "cell_type": "markdown",
   "metadata": {},
   "source": [
    "## Avazu Click-Through Rate Prediction Practice"
   ]
  },
  {
   "cell_type": "code",
   "execution_count": 171,
   "metadata": {},
   "outputs": [],
   "source": [
    "import csv\n",
    "import numpy as np\n",
    "import pandas as pd\n",
    "import pickle\n",
    "\n",
    "from sklearn.feature_extraction import DictVectorizer\n",
    "from sklearn.grid_search import GridSearchCV\n",
    "from sklearn.tree import DecisionTreeClassifier\n",
    "from sklearn.ensemble import RandomForestClassifier\n",
    "from sklearn.linear_model import SGDClassifier\n",
    "from sklearn.metrics import roc_curve, auc, roc_auc_score\n",
    "import matplotlib.pyplot as plt\n",
    "\n",
    "%matplotlib inline"
   ]
  },
  {
   "cell_type": "markdown",
   "metadata": {},
   "source": [
    "## Data Import"
   ]
  },
  {
   "cell_type": "markdown",
   "metadata": {},
   "source": [
    "##### Sample"
   ]
  },
  {
   "cell_type": "markdown",
   "metadata": {},
   "source": [
    "C1, C14-C21: anonymized categorical variables"
   ]
  },
  {
   "cell_type": "code",
   "execution_count": 14,
   "metadata": {},
   "outputs": [
    {
     "data": {
      "text/html": [
       "<div>\n",
       "<style scoped>\n",
       "    .dataframe tbody tr th:only-of-type {\n",
       "        vertical-align: middle;\n",
       "    }\n",
       "\n",
       "    .dataframe tbody tr th {\n",
       "        vertical-align: top;\n",
       "    }\n",
       "\n",
       "    .dataframe thead th {\n",
       "        text-align: right;\n",
       "    }\n",
       "</style>\n",
       "<table border=\"1\" class=\"dataframe\">\n",
       "  <thead>\n",
       "    <tr style=\"text-align: right;\">\n",
       "      <th></th>\n",
       "      <th>id</th>\n",
       "      <th>click</th>\n",
       "      <th>hour</th>\n",
       "      <th>C1</th>\n",
       "      <th>banner_pos</th>\n",
       "      <th>site_id</th>\n",
       "      <th>site_domain</th>\n",
       "      <th>site_category</th>\n",
       "      <th>app_id</th>\n",
       "      <th>app_domain</th>\n",
       "      <th>...</th>\n",
       "      <th>device_type</th>\n",
       "      <th>device_conn_type</th>\n",
       "      <th>C14</th>\n",
       "      <th>C15</th>\n",
       "      <th>C16</th>\n",
       "      <th>C17</th>\n",
       "      <th>C18</th>\n",
       "      <th>C19</th>\n",
       "      <th>C20</th>\n",
       "      <th>C21</th>\n",
       "    </tr>\n",
       "  </thead>\n",
       "  <tbody>\n",
       "    <tr>\n",
       "      <th>0</th>\n",
       "      <td>1000009418151094273</td>\n",
       "      <td>0</td>\n",
       "      <td>14102100</td>\n",
       "      <td>1005</td>\n",
       "      <td>0</td>\n",
       "      <td>1fbe01fe</td>\n",
       "      <td>f3845767</td>\n",
       "      <td>28905ebd</td>\n",
       "      <td>ecad2386</td>\n",
       "      <td>7801e8d9</td>\n",
       "      <td>...</td>\n",
       "      <td>1</td>\n",
       "      <td>2</td>\n",
       "      <td>15706</td>\n",
       "      <td>320</td>\n",
       "      <td>50</td>\n",
       "      <td>1722</td>\n",
       "      <td>0</td>\n",
       "      <td>35</td>\n",
       "      <td>-1</td>\n",
       "      <td>79</td>\n",
       "    </tr>\n",
       "    <tr>\n",
       "      <th>1</th>\n",
       "      <td>10000169349117863715</td>\n",
       "      <td>0</td>\n",
       "      <td>14102100</td>\n",
       "      <td>1005</td>\n",
       "      <td>0</td>\n",
       "      <td>1fbe01fe</td>\n",
       "      <td>f3845767</td>\n",
       "      <td>28905ebd</td>\n",
       "      <td>ecad2386</td>\n",
       "      <td>7801e8d9</td>\n",
       "      <td>...</td>\n",
       "      <td>1</td>\n",
       "      <td>0</td>\n",
       "      <td>15704</td>\n",
       "      <td>320</td>\n",
       "      <td>50</td>\n",
       "      <td>1722</td>\n",
       "      <td>0</td>\n",
       "      <td>35</td>\n",
       "      <td>100084</td>\n",
       "      <td>79</td>\n",
       "    </tr>\n",
       "    <tr>\n",
       "      <th>2</th>\n",
       "      <td>10000371904215119486</td>\n",
       "      <td>0</td>\n",
       "      <td>14102100</td>\n",
       "      <td>1005</td>\n",
       "      <td>0</td>\n",
       "      <td>1fbe01fe</td>\n",
       "      <td>f3845767</td>\n",
       "      <td>28905ebd</td>\n",
       "      <td>ecad2386</td>\n",
       "      <td>7801e8d9</td>\n",
       "      <td>...</td>\n",
       "      <td>1</td>\n",
       "      <td>0</td>\n",
       "      <td>15704</td>\n",
       "      <td>320</td>\n",
       "      <td>50</td>\n",
       "      <td>1722</td>\n",
       "      <td>0</td>\n",
       "      <td>35</td>\n",
       "      <td>100084</td>\n",
       "      <td>79</td>\n",
       "    </tr>\n",
       "    <tr>\n",
       "      <th>3</th>\n",
       "      <td>10000640724480838376</td>\n",
       "      <td>0</td>\n",
       "      <td>14102100</td>\n",
       "      <td>1005</td>\n",
       "      <td>0</td>\n",
       "      <td>1fbe01fe</td>\n",
       "      <td>f3845767</td>\n",
       "      <td>28905ebd</td>\n",
       "      <td>ecad2386</td>\n",
       "      <td>7801e8d9</td>\n",
       "      <td>...</td>\n",
       "      <td>1</td>\n",
       "      <td>0</td>\n",
       "      <td>15706</td>\n",
       "      <td>320</td>\n",
       "      <td>50</td>\n",
       "      <td>1722</td>\n",
       "      <td>0</td>\n",
       "      <td>35</td>\n",
       "      <td>100084</td>\n",
       "      <td>79</td>\n",
       "    </tr>\n",
       "  </tbody>\n",
       "</table>\n",
       "<p>4 rows × 24 columns</p>\n",
       "</div>"
      ],
      "text/plain": [
       "                     id click      hour    C1 banner_pos   site_id  \\\n",
       "0   1000009418151094273     0  14102100  1005          0  1fbe01fe   \n",
       "1  10000169349117863715     0  14102100  1005          0  1fbe01fe   \n",
       "2  10000371904215119486     0  14102100  1005          0  1fbe01fe   \n",
       "3  10000640724480838376     0  14102100  1005          0  1fbe01fe   \n",
       "\n",
       "  site_domain site_category    app_id app_domain ... device_type  \\\n",
       "0    f3845767      28905ebd  ecad2386   7801e8d9 ...           1   \n",
       "1    f3845767      28905ebd  ecad2386   7801e8d9 ...           1   \n",
       "2    f3845767      28905ebd  ecad2386   7801e8d9 ...           1   \n",
       "3    f3845767      28905ebd  ecad2386   7801e8d9 ...           1   \n",
       "\n",
       "  device_conn_type    C14  C15 C16   C17 C18 C19     C20 C21  \n",
       "0                2  15706  320  50  1722   0  35      -1  79  \n",
       "1                0  15704  320  50  1722   0  35  100084  79  \n",
       "2                0  15704  320  50  1722   0  35  100084  79  \n",
       "3                0  15706  320  50  1722   0  35  100084  79  \n",
       "\n",
       "[4 rows x 24 columns]"
      ]
     },
     "execution_count": 14,
     "metadata": {},
     "output_type": "execute_result"
    }
   ],
   "source": [
    "with open(\"/Users/lli2/Downloads/all/train\",\"r\") as datafile:\n",
    "    c = 0\n",
    "    samplels = []\n",
    "    while c < 5:\n",
    "        line = datafile.readline()\n",
    "        samplels.append(line.strip().split(','))\n",
    "        c += 1\n",
    "datafile.close()\n",
    "\n",
    "pd.DataFrame(samplels[1:], columns=samplels[0]"
   ]
  },
  {
   "cell_type": "code",
   "execution_count": 16,
   "metadata": {},
   "outputs": [
    {
     "name": "stdout",
     "output_type": "stream",
     "text": [
      "['id', 'click', 'hour', 'C1', 'banner_pos', 'site_id', 'site_domain', 'site_category', 'app_id', 'app_domain', 'app_category', 'device_id', 'device_ip', 'device_model', 'device_type', 'device_conn_type', 'C14', 'C15', 'C16', 'C17', 'C18', 'C19', 'C20', 'C21']\n"
     ]
    }
   ],
   "source": [
    "print(samplels[0])"
   ]
  },
  {
   "cell_type": "markdown",
   "metadata": {},
   "source": [
    "   "
   ]
  },
  {
   "cell_type": "markdown",
   "metadata": {},
   "source": [
    "##### Read Data Function"
   ]
  },
  {
   "cell_type": "markdown",
   "metadata": {},
   "source": [
    "row:"
   ]
  },
  {
   "cell_type": "markdown",
   "metadata": {},
   "source": [
    "OrderedDict([('id', '1000009418151094273'), ('click', '0'), ('hour', '14102100'), ('C1', '1005'), ('banner_pos', '0'), ('site_id', '1fbe01fe'), ('site_domain', 'f3845767'), ('site_category', '28905ebd'), ('app_id', 'ecad2386'), ('app_domain', '7801e8d9'), ('app_category', '07d7df22'), ('device_id', 'a99f214a'), ('device_ip', 'ddd2926e'), ('device_model', '44956a24'), ('device_type', '1'), ('device_conn_type', '2'), ('C14', '15706'), ('C15', '320'), ('C16', '50'), ('C17', '1722'), ('C18', '0'), ('C19', '35'), ('C20', '-1'), ('C21', '79')])"
   ]
  },
  {
   "cell_type": "code",
   "execution_count": 164,
   "metadata": {
    "collapsed": true
   },
   "outputs": [],
   "source": [
    "def processdata(sample_num, offset=0):\n",
    "    \n",
    "    import csv\n",
    "    \n",
    "    x_dict = []\n",
    "    y = []\n",
    "    \n",
    "    # open and read file\n",
    "    with open(\"/Users/lli2/Downloads/all/train\",\"r\") as datafile:\n",
    "        \n",
    "        readfile = csv.DictReader(datafile)\n",
    "        for o in range(offset):\n",
    "            next(readfile)\n",
    "        \n",
    "        i=0\n",
    "        for row in readfile:\n",
    "            i += 1\n",
    "            y.append(int(row['click']))\n",
    "            \n",
    "            del row['click'], row['id'], row['device_ip'], row['device_id'], row['hour'], row['site_id'], row['app_id']\n",
    "        \n",
    "            # append input to x_dict\n",
    "            x_dict.append(row)\n",
    "            \n",
    "            if i >= sample_num:\n",
    "                break\n",
    "            \n",
    "    datafile.close()\n",
    "    \n",
    "    return x_dict, y"
   ]
  },
  {
   "cell_type": "code",
   "execution_count": 84,
   "metadata": {},
   "outputs": [],
   "source": [
    "x_dict_train, y_train = processdata(100)\n",
    "x_dict_test, y_test = processdata(20, 100)\n",
    "x_dict_comb = x_dict_train + x_dict_test"
   ]
  },
  {
   "cell_type": "code",
   "execution_count": 116,
   "metadata": {},
   "outputs": [],
   "source": [
    "dict_one_hot_encode = DictVectorizer(sparse=False)\n",
    "x_comb = dict_one_hot_encode.fit_transform(x_dict_comb)\n",
    "x_train = x_comb[:(100)]\n",
    "x_test = x_comb[100:]\n",
    "\n",
    "clf = DecisionTreeClassifier(random_state = 42)\n",
    "parameters = {'max_depth':[3,8,12,None], 'random_state':[42]}\n",
    "gridsearch = GridSearchCV(estimator=clf, param_grid=parameters, cv=3, scoring='roc_auc')\n",
    "gridsearch.fit(x_train, y_train)\n",
    "clf_best = gridsearch.best_estimator_\n",
    "\n",
    "prob_test = clf_best.predict_proba(x_test)\n",
    "#pred_test = clf_best.predict(x_test)"
   ]
  },
  {
   "cell_type": "code",
   "execution_count": null,
   "metadata": {
    "collapsed": true
   },
   "outputs": [],
   "source": [
    "clf = SGDClassifier(random_state=42, eta0=0.01, loss='log', max_iter=10)\n",
    "    parameters = {'max_iter':[8,10,15], 'learning_rate':['optimal','adaptive','constant']}\n",
    "    gridsearch = GridSearchCV(estimator=clf, param_grid=parameters, cv=3, scoring='roc_auc')\n",
    "    clf_best = gridsearch.best_estimator_"
   ]
  },
  {
   "cell_type": "markdown",
   "metadata": {},
   "source": [
    "    "
   ]
  },
  {
   "cell_type": "markdown",
   "metadata": {},
   "source": [
    "## Modeling"
   ]
  },
  {
   "cell_type": "markdown",
   "metadata": {},
   "source": [
    "##### Decision Tree"
   ]
  },
  {
   "cell_type": "code",
   "execution_count": 165,
   "metadata": {
    "collapsed": true
   },
   "outputs": [],
   "source": [
    "def decision_tree(train_num, test_num):\n",
    "    \n",
    "    x_dict_train, y_train = processdata(train_num)\n",
    "    x_dict_test, y_test = processdata(test_num, train_num)\n",
    "    x_dict_comb = x_dict_train + x_dict_test\n",
    "    \n",
    "    dict_one_hot_encode = DictVectorizer(sparse=False)\n",
    "    x_comb = dict_one_hot_encode.fit_transform(x_dict_comb)\n",
    "    x_train = x_comb[:train_num]\n",
    "    x_test = x_comb[train_num:]\n",
    "    \n",
    "    # train decision tree classifier\n",
    "    clf = DecisionTreeClassifier(random_state = 42)\n",
    "    parameters = {'max_depth':[3,8,12,None], 'random_state':[42]}\n",
    "    gridsearch = GridSearchCV(estimator=clf, param_grid=parameters, cv=3, scoring='roc_auc')\n",
    "    gridsearch.fit(x_train, y_train)\n",
    "    clf_best = gridsearch.best_estimator_\n",
    "    \n",
    "    prob_test = clf_best.predict_proba(x_test)[:,1]\n",
    "    #pred_test = clf_best.predict(x_test)\n",
    "    score = roc_auc_score(y_test, prob_test)\n",
    "    \n",
    "    #Save file\n",
    "    decision_tree_model = open(\"/Users/lli2/Git/kaggle/Avazu Click-Through Rate Prediction/decision_tree_model.sav\",\"wb\")\n",
    "    pickle.dump(clf_best, decision_tree_model)\n",
    "    decision_tree_model.close()\n",
    "    print('Decision tree model saved...')\n",
    "    \n",
    "    return clf_best, score"
   ]
  },
  {
   "cell_type": "code",
   "execution_count": 114,
   "metadata": {},
   "outputs": [
    {
     "name": "stdout",
     "output_type": "stream",
     "text": [
      "Decision tree model saved...\n"
     ]
    }
   ],
   "source": [
    "decisiontree_best, dt_roc_score = decision_tree(6000, 2000)"
   ]
  },
  {
   "cell_type": "code",
   "execution_count": 115,
   "metadata": {},
   "outputs": [
    {
     "data": {
      "text/plain": [
       "0.6437887007507261"
      ]
     },
     "execution_count": 115,
     "metadata": {},
     "output_type": "execute_result"
    }
   ],
   "source": [
    "test_score"
   ]
  },
  {
   "cell_type": "markdown",
   "metadata": {},
   "source": [
    "   "
   ]
  },
  {
   "cell_type": "markdown",
   "metadata": {},
   "source": [
    "##### Random Forest"
   ]
  },
  {
   "cell_type": "code",
   "execution_count": 166,
   "metadata": {
    "collapsed": true
   },
   "outputs": [],
   "source": [
    "def random_forest(train_num, test_num):\n",
    "    x_dict_train, y_train = processdata(train_num)\n",
    "    x_dict_test, y_test = processdata(test_num, train_num)\n",
    "    x_dict_comb = x_dict_train + x_dict_test\n",
    "    \n",
    "    dict_one_hot_encoder = DictVectorizer(sparse=False)\n",
    "    x_comb = dict_one_hot_encoder.fit_transform(x_dict_comb)\n",
    "    x_train = x_comb[:train_num]\n",
    "    x_test = x_comb[train_num:]\n",
    "    \n",
    "    # train random forest classifier\n",
    "    clf = RandomForestClassifier(random_state=42)\n",
    "    parameters = {'max_depth':[1,3,5,10], 'n_estimators':[50,100], 'random_state':[42]}\n",
    "    gridsearch = GridSearchCV(estimator=clf, param_grid=parameters, cv=3, scoring='roc_auc')\n",
    "    gridsearch.fit(x_train, y_train)\n",
    "    clf_best = gridsearch.best_estimator_\n",
    "    \n",
    "    prob_test = clf_best.predict_proba(x_test)[:,1]\n",
    "    score = roc_auc_score(y_test, prob_test)\n",
    "    \n",
    "    # save file\n",
    "    random_forest_model = open(\"/Users/lli2/Git/kaggle/Avazu Click-Through Rate Prediction/random_forest_model.sav\",\"wb\")\n",
    "    pickle.dump(clf_best, random_forest_model)\n",
    "    random_forest_model.close()\n",
    "    print('Random forest model saved...')\n",
    "    \n",
    "    return clf_best, score\n",
    "    "
   ]
  },
  {
   "cell_type": "code",
   "execution_count": 124,
   "metadata": {},
   "outputs": [],
   "source": [
    "randomforest_best, rf_roc_score = random_forest(6000, 2000)"
   ]
  },
  {
   "cell_type": "code",
   "execution_count": 125,
   "metadata": {},
   "outputs": [
    {
     "data": {
      "text/plain": [
       "0.6937658095273448"
      ]
     },
     "execution_count": 125,
     "metadata": {},
     "output_type": "execute_result"
    }
   ],
   "source": [
    "rf_roc_score"
   ]
  },
  {
   "cell_type": "markdown",
   "metadata": {},
   "source": [
    "   "
   ]
  },
  {
   "cell_type": "markdown",
   "metadata": {},
   "source": [
    "##### SGDClassifier"
   ]
  },
  {
   "cell_type": "markdown",
   "metadata": {},
   "source": [
    "MLE can be defined as a method for estimating population parameters (such as the mean and variance for Normal, rate (lambda) for Poisson, etc.) from sample data such that the probability (likelihood) of obtaining the observed data is maximized."
   ]
  },
  {
   "cell_type": "code",
   "execution_count": 167,
   "metadata": {},
   "outputs": [],
   "source": [
    "def sgd_logistic(train_num, test_num):\n",
    "    x_dict_train, y_train = processdata(train_num)\n",
    "    x_dict_test, y_test = processdata(test_num, train_num)\n",
    "    x_dict_comb = x_dict_train + x_dict_test\n",
    "    \n",
    "    dict_one_hot_encoder = DictVectorizer(sparse=False)\n",
    "    x_comb = dict_one_hot_encoder.fit_transform(x_dict_comb)\n",
    "    x_train = x_comb[:train_num]\n",
    "    x_test = x_comb[train_num:]\n",
    "    \n",
    "    # train sgd linear regression\n",
    "    clf = SGDClassifier(random_state=42, eta0=0.01, loss='log', max_iter=10)\n",
    "    parameters = {'max_iter':[8,10,15], 'learning_rate':['optimal','constant']}\n",
    "    gridsearch = GridSearchCV(estimator=clf, param_grid=parameters, cv=3, scoring='roc_auc')\n",
    "    gridsearch.fit(x_train, y_train)\n",
    "    clf_best = gridsearch.best_estimator_\n",
    "    #clf.fit(x_train, y_train)\n",
    "    \n",
    "    prob_test = clf_best.predict_proba(x_test)[:,1]\n",
    "    score = roc_auc_score(y_test, prob_test)\n",
    "    \n",
    "    # save file\n",
    "    sgd_logistic_model = open(\"/Users/lli2/Git/kaggle/Avazu Click-Through Rate Prediction/sgd_logistic_model.sav\",\"wb\")\n",
    "    pickle.dump(clf_best, sgd_logistic_model)\n",
    "    sgd_logistic_model.close()\n",
    "    print('SGD Logistic model saved...')\n",
    "    \n",
    "    return clf_best, score"
   ]
  },
  {
   "cell_type": "code",
   "execution_count": 159,
   "metadata": {},
   "outputs": [],
   "source": [
    "sgd_best, sgd_roc_score = sgd_logistic(6000, 2000)"
   ]
  },
  {
   "cell_type": "code",
   "execution_count": 160,
   "metadata": {},
   "outputs": [
    {
     "data": {
      "text/plain": [
       "0.7078576112875827"
      ]
     },
     "execution_count": 160,
     "metadata": {},
     "output_type": "execute_result"
    }
   ],
   "source": [
    "sgd_roc_score"
   ]
  },
  {
   "cell_type": "code",
   "execution_count": 161,
   "metadata": {},
   "outputs": [
    {
     "data": {
      "text/plain": [
       "SGDClassifier(alpha=0.0001, average=False, class_weight=None, epsilon=0.1,\n",
       "       eta0=0.01, fit_intercept=True, l1_ratio=0.15,\n",
       "       learning_rate='constant', loss='log', max_iter=8, n_iter=None,\n",
       "       n_jobs=1, penalty='l2', power_t=0.5, random_state=42, shuffle=True,\n",
       "       tol=None, verbose=0, warm_start=False)"
      ]
     },
     "execution_count": 161,
     "metadata": {},
     "output_type": "execute_result"
    }
   ],
   "source": [
    "sgd_best"
   ]
  },
  {
   "cell_type": "markdown",
   "metadata": {},
   "source": [
    "   "
   ]
  },
  {
   "cell_type": "markdown",
   "metadata": {},
   "source": [
    "   "
   ]
  },
  {
   "cell_type": "markdown",
   "metadata": {},
   "source": [
    "##### Combine"
   ]
  },
  {
   "cell_type": "code",
   "execution_count": 177,
   "metadata": {
    "collapsed": true
   },
   "outputs": [],
   "source": [
    "def main(train_num, test_num):\n",
    "    decisiontree_best, dt_roc_score = decision_tree(train_num, test_num)\n",
    "    randomforest_best, rf_roc_score = random_forest(train_num, test_num)\n",
    "    sgd_best, sgd_roc_score = sgd_logistic(train_num, test_num)\n",
    "    \n",
    "    print('Decision Tree AUC: ', dt_roc_score)\n",
    "    print('Random Forest AUC: ', rf_roc_score)\n",
    "    print('SGD Logistic AUC: ', sgd_roc_score)\n",
    "    \n",
    "    plt.bar(x=['Decision Tree','Random Forest','SGD Logistic'],\n",
    "            height=[dt_roc_score, rf_roc_score, sgd_roc_score])\n",
    "    plt.xlabel('Model')\n",
    "    plt.ylabel('AUC')\n",
    "    plt.ylim(0.5, 0.8)\n",
    "    plt.title('Prediction Performance by Different Models')\n",
    "    return [dt_roc_score, rf_roc_score, sgd_roc_score]"
   ]
  },
  {
   "cell_type": "code",
   "execution_count": 178,
   "metadata": {},
   "outputs": [
    {
     "name": "stdout",
     "output_type": "stream",
     "text": [
      "Decision tree model saved...\n",
      "Random forest model saved...\n",
      "SGD Logistic model saved...\n",
      "Decision Tree AUC:  0.6437887007507261\n",
      "Random Forest AUC:  0.6937658095273448\n",
      "SGD Logistic AUC:  0.7078576112875827\n"
     ]
    },
    {
     "data": {
      "image/png": "[encoded data removed]",
      "text/plain": [
       "<matplotlib.figure.Figure at 0x1a24927ba8>"
      ]
     },
     "metadata": {},
     "output_type": "display_data"
    }
   ],
   "source": [
    "models_results = main(6000, 2000)"
   ]
  },
  {
   "cell_type": "code",
   "execution_count": null,
   "metadata": {
    "collapsed": true
   },
   "outputs": [],
   "source": []
  },
  {
   "cell_type": "code",
   "execution_count": null,
   "metadata": {
    "collapsed": true
   },
   "outputs": [],
   "source": []
  }
 ],
 "metadata": {
  "kernelspec": {
   "display_name": "Python 3",
   "language": "python",
   "name": "python3"
  },
  "language_info": {
   "codemirror_mode": {
    "name": "ipython",
    "version": 3
   },
   "file_extension": ".py",
   "mimetype": "text/x-python",
   "name": "python",
   "nbconvert_exporter": "python",
   "pygments_lexer": "ipython3",
   "version": "3.6.3"
  }
 },
 "nbformat": 4,
 "nbformat_minor": 2
}
